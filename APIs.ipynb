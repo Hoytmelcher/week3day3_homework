{
 "cells": [
  {
   "cell_type": "markdown",
   "metadata": {},
   "source": [
    "# APIs\n"
   ]
  },
  {
   "cell_type": "markdown",
   "metadata": {},
   "source": [
    "## Tasks Today:\n",
    "1) <b>Requests and the pokemon API </b> <br>\n",
    " "
   ]
  },
  {
   "cell_type": "markdown",
   "metadata": {},
   "source": [
    "# working with APis"
   ]
  },
  {
   "cell_type": "markdown",
   "metadata": {},
   "source": [
    "<p> What exactly is an API? <br> <br>\n",
    "API is the acronym for Application Programming Interface, which is a software intermediary that allows two applications to talk to each other. Each time you use an app like Facebook, send an instant message, or check the weather on your phone, you're using an API. </p>"
   ]
  },
  {
   "cell_type": "markdown",
   "metadata": {},
   "source": [
    "### The Poke API  allows you to retreive a pokemon's information from PokeAPI https://pokeapi.co/\n",
    "\n"
   ]
  },
  {
   "cell_type": "code",
   "execution_count": 2,
   "metadata": {},
   "outputs": [
    {
     "ename": "ModuleNotFoundError",
     "evalue": "No module named 'requests'",
     "output_type": "error",
     "traceback": [
      "\u001b[1;31m---------------------------------------------------------------------------\u001b[0m",
      "\u001b[1;31mModuleNotFoundError\u001b[0m                       Traceback (most recent call last)",
      "Cell \u001b[1;32mIn[2], line 2\u001b[0m\n\u001b[0;32m      1\u001b[0m \u001b[39m# making an API call\u001b[39;00m\n\u001b[1;32m----> 2\u001b[0m \u001b[39mimport\u001b[39;00m \u001b[39mrequests\u001b[39;00m\n\u001b[0;32m      4\u001b[0m pokemon \u001b[39m=\u001b[39m \u001b[39minput\u001b[39m(\u001b[39m'\u001b[39m\u001b[39mEnter a Pokemon: \u001b[39m\u001b[39m'\u001b[39m)\n\u001b[0;32m      6\u001b[0m url \u001b[39m=\u001b[39m \u001b[39mf\u001b[39m\u001b[39m'\u001b[39m\u001b[39mhttps://pokeapi.co/api/v2/pokemon/\u001b[39m\u001b[39m{\u001b[39;00mpokemon\u001b[39m}\u001b[39;00m\u001b[39m/\u001b[39m\u001b[39m'\u001b[39m\n",
      "\u001b[1;31mModuleNotFoundError\u001b[0m: No module named 'requests'"
     ]
    }
   ],
   "source": [
    "# making an API call\n",
    "import requests\n",
    "\n",
    "pokemon = input('Enter a Pokemon: ')\n",
    "\n",
    "url = f'https://pokeapi.co/api/v2/pokemon/{pokemon}/'\n",
    "\n",
    "response = requests.get(url)\n",
    "\n",
    "if response.status_code == 200:\n",
    "    print('success')\n",
    "    data = response.json()\n",
    "else:\n",
    "    print(f'ERROR, STATUS CODE {response.status_code}')"
   ]
  },
  {
   "cell_type": "code",
   "execution_count": null,
   "metadata": {},
   "outputs": [
    {
     "name": "stdout",
     "output_type": "stream",
     "text": [
      "pikachu\n"
     ]
    }
   ],
   "source": [
    "print(data['name'])"
   ]
  },
  {
   "cell_type": "markdown",
   "metadata": {},
   "source": [
    "### Display a Pokemon's name, weight, abilities, and types"
   ]
  },
  {
   "cell_type": "code",
   "execution_count": null,
   "metadata": {},
   "outputs": [
    {
     "name": "stdout",
     "output_type": "stream",
     "text": [
      "pikachu\n"
     ]
    }
   ],
   "source": [
    "# get the name\n",
    "name = data['name']\n",
    "print(data['name'])"
   ]
  },
  {
   "cell_type": "code",
   "execution_count": null,
   "metadata": {},
   "outputs": [
    {
     "name": "stdout",
     "output_type": "stream",
     "text": [
      "['electric']\n"
     ]
    }
   ],
   "source": [
    "# get types\n",
    "types = data['types']\n",
    "\n",
    "types = list(map(lambda x: x['type']['name'],types))\n",
    "print(types)"
   ]
  },
  {
   "cell_type": "code",
   "execution_count": null,
   "metadata": {},
   "outputs": [
    {
     "name": "stdout",
     "output_type": "stream",
     "text": [
      "60\n"
     ]
    }
   ],
   "source": [
    "# get weight\n",
    "weight = data['weight']\n",
    "print(weight)"
   ]
  },
  {
   "cell_type": "code",
   "execution_count": null,
   "metadata": {},
   "outputs": [
    {
     "name": "stdout",
     "output_type": "stream",
     "text": [
      "['static', 'lightning-rod']\n"
     ]
    }
   ],
   "source": [
    "# get abilities\n",
    "abilities = data['abilities']\n",
    "\n",
    "abilities = list(map(lambda x: x['ability']['name'],abilities))\n",
    "print(abilities)"
   ]
  },
  {
   "cell_type": "code",
   "execution_count": null,
   "metadata": {},
   "outputs": [],
   "source": [
    "# Create a structure for a single pokemon\n",
    "class Pokemon:\n",
    "    def __init__(self, name, types, weight, abilities):\n",
    "        self.name = name\n",
    "        self.types = types\n",
    "        self.weight = weight\n",
    "        self.abilities = abilities\n"
   ]
  },
  {
   "cell_type": "code",
   "execution_count": null,
   "metadata": {},
   "outputs": [],
   "source": [
    "my_pokemon = Pokemon(name, types, weight, abilities)"
   ]
  },
  {
   "cell_type": "code",
   "execution_count": null,
   "metadata": {},
   "outputs": [
    {
     "data": {
      "text/plain": [
       "'pikachu'"
      ]
     },
     "execution_count": 41,
     "metadata": {},
     "output_type": "execute_result"
    }
   ],
   "source": [
    "my_pokemon.name"
   ]
  },
  {
   "cell_type": "markdown",
   "metadata": {},
   "source": [
    "#### Create a function to Pull in your own Pokemon's data "
   ]
  },
  {
   "cell_type": "code",
   "execution_count": null,
   "metadata": {},
   "outputs": [],
   "source": [
    "\n",
    "def poke_api_call(pokemon):\n",
    "     # Use the pokemon parameter to make a request to the pokeapi\n",
    "    response = requests.get(f'https://pokeapi.co/api/v2/pokemon/{pokemon}/')\n",
    "    # if the status code is 200:\n",
    "    if response.status_code == 200:\n",
    "        # Get the pokemon's data with the json method\n",
    "        data = response.json()\n",
    "        name = data['name']\n",
    "        weight = data['weight']\n",
    "        types = data['types']\n",
    "        types = list(map(lambda x: x['type']['name'],types))\n",
    "        abilities = data['abilities']\n",
    "        abilities = list(map(lambda x: x['ability']['name'],abilities))\n",
    "        pokemon = Pokemon(name, types, weight, abilities)\n",
    "        return pokemon\n",
    "    else:\n",
    "        print(f'ERROR, STATUS CODE {response.status_code}')\n",
    "    \n",
    "pokemon1 = poke_api_call('pikachu')"
   ]
  },
  {
   "cell_type": "code",
   "execution_count": null,
   "metadata": {},
   "outputs": [
    {
     "data": {
      "text/plain": [
       "['electric']"
      ]
     },
     "execution_count": 62,
     "metadata": {},
     "output_type": "execute_result"
    }
   ],
   "source": [
    "pokemon1.types"
   ]
  },
  {
   "cell_type": "code",
   "execution_count": null,
   "metadata": {},
   "outputs": [
    {
     "name": "stdout",
     "output_type": "stream",
     "text": [
      "['water']\n"
     ]
    }
   ],
   "source": [
    "pokemon2 = poke_api_call('squirtle')\n",
    "print(pokemon2.types)"
   ]
  },
  {
   "cell_type": "markdown",
   "metadata": {},
   "source": [
    "Choose your pokemon"
   ]
  },
  {
   "cell_type": "code",
   "execution_count": null,
   "metadata": {},
   "outputs": [],
   "source": [
    "from random import randint\n",
    "# Random number generated for each pokemon id\n",
    "random_team = [randint(1,898) for i in range(6)]\n",
    "\n",
    "your_team = ['mew', 'umbreon','tyranitar','sneasel','bisharp',778]\n"
   ]
  },
  {
   "cell_type": "code",
   "execution_count": null,
   "metadata": {},
   "outputs": [
    {
     "name": "stdout",
     "output_type": "stream",
     "text": [
      "[381, 869, 799, 581, 4, 864]\n"
     ]
    }
   ],
   "source": [
    "print(random_team)\n"
   ]
  },
  {
   "cell_type": "code",
   "execution_count": null,
   "metadata": {},
   "outputs": [],
   "source": [
    "random_team = list(map(poke_api_call, random_team))"
   ]
  },
  {
   "cell_type": "code",
   "execution_count": null,
   "metadata": {},
   "outputs": [
    {
     "name": "stdout",
     "output_type": "stream",
     "text": [
      "latios\n",
      "alcremie\n",
      "guzzlord\n",
      "swanna\n",
      "charmander\n",
      "cursola\n"
     ]
    }
   ],
   "source": [
    "for mon in random_team:\n",
    "    print(mon.name)"
   ]
  },
  {
   "cell_type": "code",
   "execution_count": null,
   "metadata": {},
   "outputs": [],
   "source": [
    "your_team = list(map(poke_api_call, your_team))"
   ]
  },
  {
   "cell_type": "code",
   "execution_count": null,
   "metadata": {},
   "outputs": [
    {
     "name": "stdout",
     "output_type": "stream",
     "text": [
      "mew\n",
      "['psychic']\n",
      "umbreon\n",
      "['dark']\n",
      "tyranitar\n",
      "['rock', 'dark']\n",
      "sneasel\n",
      "['dark', 'ice']\n",
      "bisharp\n",
      "['dark', 'steel']\n",
      "mimikyu-disguised\n",
      "['ghost', 'fairy']\n"
     ]
    }
   ],
   "source": [
    "for mon in your_team:\n",
    "    print(mon.name)\n",
    "    print(mon.types)"
   ]
  },
  {
   "cell_type": "markdown",
   "metadata": {},
   "source": [
    "#### Use your function to create a dictionary of your Johto League 6  (favorite 6 pokemon)"
   ]
  },
  {
   "cell_type": "code",
   "execution_count": null,
   "metadata": {},
   "outputs": [
    {
     "name": "stdout",
     "output_type": "stream",
     "text": [
      "{'mew': <__main__.Pokemon object at 0x0000026366BE76D0>, 'umbreon': <__main__.Pokemon object at 0x00000263656C4370>, 'tyranitar': <__main__.Pokemon object at 0x0000026366BE77C0>, 'sneasel': <__main__.Pokemon object at 0x0000026366BE7CD0>, 'bisharp': <__main__.Pokemon object at 0x0000026366BE75B0>, 'mimikyu-disguised': <__main__.Pokemon object at 0x0000026366BE7B50>}\n"
     ]
    }
   ],
   "source": [
    "# Place all 6 of your pokemon on the object below, each pokemon should have at least as much info as Pikachu did.\n",
    "my_six_pokemon = {}\n",
    "\n",
    "for mon in your_team:\n",
    "    my_six_pokemon[mon.name] = mon\n",
    "    \n",
    "print(my_six_pokemon)"
   ]
  },
  {
   "cell_type": "code",
   "execution_count": null,
   "metadata": {},
   "outputs": [
    {
     "data": {
      "text/plain": [
       "['psychic']"
      ]
     },
     "execution_count": 127,
     "metadata": {},
     "output_type": "execute_result"
    }
   ],
   "source": [
    "my_six_pokemon['mew'].types"
   ]
  },
  {
   "cell_type": "markdown",
   "metadata": {},
   "source": [
    "## Lets create a class called 'Pokemon' and create our pokemon as instances"
   ]
  },
  {
   "cell_type": "code",
   "execution_count": null,
   "metadata": {},
   "outputs": [],
   "source": [
    "class Pokemon():\n",
    "    def __init__(self, name):\n",
    "        self.name = name\n",
    "        self.types = None\n",
    "        self.weight = None\n",
    "        self.abilities = None\n",
    "        self.sprite = None\n",
    "        self.poke_api_call()\n",
    "        \n",
    "    def poke_api_call(self):\n",
    "        response = requests.get(f'https://pokeapi.co/api/v2/pokemon/{self.name}/')\n",
    "        if response.status_code == 200:\n",
    "            data = response.json()\n",
    "            self.name = data['name']\n",
    "            self.weight = data['weight']\n",
    "            types = data['types']\n",
    "            self.types = list(map(lambda x: x['type']['name'],types))\n",
    "            abilities = data['abilities']\n",
    "            self.abilities = list(map(lambda x: x['ability']['name'],abilities))\n",
    "            self.sprite = data['sprites']['front_default']\n",
    "           \n",
    "        else:\n",
    "            print(f'ERROR, STATUS CODE {response.status_code}')"
   ]
  },
  {
   "cell_type": "code",
   "execution_count": null,
   "metadata": {},
   "outputs": [
    {
     "name": "stdout",
     "output_type": "stream",
     "text": [
      "<__main__.Pokemon object at 0x0000026366BEB4F0>\n"
     ]
    }
   ],
   "source": [
    "pikachu = Pokemon('pikachu')\n",
    "print(pikachu)"
   ]
  },
  {
   "cell_type": "code",
   "execution_count": null,
   "metadata": {},
   "outputs": [
    {
     "name": "stdout",
     "output_type": "stream",
     "text": [
      "pikachu\n"
     ]
    }
   ],
   "source": []
  },
  {
   "cell_type": "markdown",
   "metadata": {},
   "source": [
    "### Let's Catch some Pokemon"
   ]
  },
  {
   "cell_type": "code",
   "execution_count": null,
   "metadata": {},
   "outputs": [],
   "source": []
  },
  {
   "cell_type": "code",
   "execution_count": null,
   "metadata": {},
   "outputs": [],
   "source": [
    "class Pokedex:\n",
    "    def __init__(self):\n",
    "        self.pokemon = {}\n",
    "        \n",
    "    def add_pokemon(self, name):\n",
    "        new_pokemon = Pokemon(name)\n",
    "        self.pokemon[new_pokemon.name] = new_pokemon\n"
   ]
  },
  {
   "cell_type": "code",
   "execution_count": null,
   "metadata": {},
   "outputs": [],
   "source": [
    "my_pokedex = Pokedex()\n"
   ]
  },
  {
   "cell_type": "code",
   "execution_count": null,
   "metadata": {},
   "outputs": [],
   "source": [
    "my_pokedex.add_pokemon('pikachu')"
   ]
  },
  {
   "cell_type": "code",
   "execution_count": null,
   "metadata": {},
   "outputs": [],
   "source": [
    "my_pokedex.add_pokemon(10)\n"
   ]
  },
  {
   "cell_type": "code",
   "execution_count": null,
   "metadata": {},
   "outputs": [
    {
     "data": {
      "text/plain": [
       "{'pikachu': <__main__.Pokemon at 0x26366beb640>,\n",
       " 'caterpie': <__main__.Pokemon at 0x26366beba30>}"
      ]
     },
     "execution_count": 146,
     "metadata": {},
     "output_type": "execute_result"
    }
   ],
   "source": [
    "my_pokedex.pokemon"
   ]
  },
  {
   "cell_type": "markdown",
   "metadata": {},
   "source": [
    "## Exercise 1:"
   ]
  },
  {
   "cell_type": "markdown",
   "metadata": {},
   "source": [
    "### Create a Method prints an image of your pokemon\n",
    "\n",
    "<p>HINT: You may need another attribute as well to store your image url within. </p>"
   ]
  },
  {
   "cell_type": "code",
   "execution_count": null,
   "metadata": {},
   "outputs": [],
   "source": [
    "# Display an image in Jupyter notebook\n",
    "from IPython.display import Image\n",
    "\n",
    "#display(Image( 'https://i.redd.it/45n4mhusa8l41.jpg', width = 300))\n"
   ]
  },
  {
   "cell_type": "code",
   "execution_count": null,
   "metadata": {},
   "outputs": [],
   "source": [
    "# recreate your pokemon class here\n",
    "class Pokemon():\n",
    "    def __init__(self, name):\n",
    "        self.name = name\n",
    "        self.types = None\n",
    "        self.weight = None\n",
    "        self.abilities = None\n",
    "        self.sprite = None\n",
    "        self.poke_api_call()\n",
    "        \n",
    "    def poke_api_call(self):\n",
    "        response = requests.get(f'https://pokeapi.co/api/v2/pokemon/{self.name}/')\n",
    "        if response.status_code == 200:\n",
    "            data = response.json()\n",
    "            self.name = data['name']\n",
    "            self.weight = data['weight']\n",
    "            types = data['types']\n",
    "            self.types = list(map(lambda x: x['type']['name'],types))\n",
    "            abilities = data['abilities']\n",
    "            self.abilities = list(map(lambda x: x['ability']['name'],abilities))\n",
    "            self.sprite = data['sprites']['front_default']\n",
    "        else:\n",
    "            print(f'ERROR, STATUS CODE {response.status_code}')\n",
    "    def display_pokemon(self):\n",
    "        display(Image(self.sprite, width = 300))"
   ]
  },
  {
   "cell_type": "code",
   "execution_count": null,
   "metadata": {},
   "outputs": [],
   "source": [
    "pikachu = Pokemon('pikachu')"
   ]
  },
  {
   "cell_type": "code",
   "execution_count": null,
   "metadata": {},
   "outputs": [
    {
     "data": {
      "image/png": "[encoded data removed]",
      "text/plain": [
       "<IPython.core.display.Image object>"
      ]
     },
     "metadata": {
      "image/png": {
       "width": 300
      }
     },
     "output_type": "display_data"
    }
   ],
   "source": [
    "# Calling our new method\n",
    "pikachu.display_pokemon()"
   ]
  },
  {
   "cell_type": "code",
   "execution_count": null,
   "metadata": {},
   "outputs": [],
   "source": [
    "squirtle = Pokemon(7)"
   ]
  },
  {
   "cell_type": "code",
   "execution_count": null,
   "metadata": {},
   "outputs": [
    {
     "data": {
      "image/png": "[encoded data removed]",
      "text/plain": [
       "<IPython.core.display.Image object>"
      ]
     },
     "metadata": {
      "image/png": {
       "width": 300
      }
     },
     "output_type": "display_data"
    }
   ],
   "source": [
    "squirtle.display_pokemon()"
   ]
  },
  {
   "cell_type": "markdown",
   "metadata": {},
   "source": [
    "## Exercise 2:"
   ]
  },
  {
   "cell_type": "markdown",
   "metadata": {},
   "source": [
    "### Create a Method that evolves your Pokemon\n",
    "If your pokemon can't evolve any further print a message that says \"\\<name of pokemon> can't evolve.\""
   ]
  },
  {
   "cell_type": "code",
   "execution_count": null,
   "metadata": {},
   "outputs": [],
   "source": [
    "class Pokemon():\n",
    "    def __init__(self, name):\n",
    "        self.name = name\n",
    "        self.types = None\n",
    "        self.weight = None\n",
    "        self.abilities = None\n",
    "        self.sprite = None\n",
    "        self.poke_api_call(self.name)\n",
    "        \n",
    "    def poke_api_call(self,name):\n",
    "        response = requests.get(f'https://pokeapi.co/api/v2/pokemon/{name}/')\n",
    "        if response.status_code == 200:\n",
    "            data = response.json()\n",
    "            self.name = data['name']\n",
    "            self.weight = data['weight']\n",
    "            types = data['types']\n",
    "            self.types = list(map(lambda x: x['type']['name'],types))\n",
    "            abilities = data['abilities']\n",
    "            self.abilities = list(map(lambda x: x['ability']['name'],abilities))\n",
    "            self.sprite = data['sprites']['front_default']\n",
    "        else:\n",
    "            print(f'ERROR, STATUS CODE {response.status_code}')\n",
    "    def display_pokemon(self):\n",
    "        display(Image(self.sprite, width = 300))\n",
    "    def evolve(self):\n",
    "        new_mon = input(f\"Woah! {self.name} is evolving!  \")\n",
    "        self.poke_api_call(new_mon)\n",
    "    def true_evolve(self):\n",
    "        response_species = requests.get(f'https://pokeapi.co/api/v2/pokemon-species/{self.name}/')\n",
    "        if response_species.status_code == 200:\n",
    "            species_data = response_species.json()\n",
    "            response_chain = requests.get(species_data['evolution_chain']['url'])\n",
    "            if response_chain.status_code == 200:\n",
    "                chain_data = response_chain.json()\n",
    "                newer_mon = chain_data['chain']['evolves_to'][0]['species']['name']\n",
    "                newest_mon = chain_data['chain']['evolves_to'][0]['evolves_to'][0]['species']['name']\n",
    "                if self.name != newest_mon and self.name != newer_mon:\n",
    "                    self.poke_api_call(newer_mon)\n",
    "                elif self.name == newer_mon:\n",
    "                    self.poke_api_call(newest_mon)\n",
    "                else:\n",
    "                    print(f'{self.name} can not evolve further')\n",
    "            else:\n",
    "                print(f'ERROR, STATUS CODE {response.status_code}')\n",
    "        else:\n",
    "            print(f'ERROR, STATUS CODE {response.status_code}')  "
   ]
  },
  {
   "cell_type": "markdown",
   "metadata": {},
   "source": [
    "Now let's evolve a few"
   ]
  },
  {
   "cell_type": "code",
   "execution_count": null,
   "metadata": {
    "scrolled": true
   },
   "outputs": [],
   "source": [
    "pikachu = Pokemon(25)"
   ]
  },
  {
   "cell_type": "code",
   "execution_count": null,
   "metadata": {},
   "outputs": [
    {
     "name": "stdout",
     "output_type": "stream",
     "text": [
      "Woah! raichu is evolving!  arceus\n"
     ]
    }
   ],
   "source": [
    "pikachu.evolve()"
   ]
  },
  {
   "cell_type": "code",
   "execution_count": null,
   "metadata": {},
   "outputs": [
    {
     "name": "stdout",
     "output_type": "stream",
     "text": [
      "arceus\n"
     ]
    }
   ],
   "source": [
    "print(pikachu.name)"
   ]
  },
  {
   "cell_type": "code",
   "execution_count": null,
   "metadata": {},
   "outputs": [
    {
     "data": {
      "image/png": "[encoded data removed]",
      "text/plain": [
       "<IPython.core.display.Image object>"
      ]
     },
     "metadata": {
      "image/png": {
       "width": 300
      }
     },
     "output_type": "display_data"
    }
   ],
   "source": [
    "pikachu.display_pokemon()"
   ]
  },
  {
   "cell_type": "code",
   "execution_count": null,
   "metadata": {},
   "outputs": [],
   "source": [
    "squirtle = Pokemon('squirtle')"
   ]
  },
  {
   "cell_type": "code",
   "execution_count": null,
   "metadata": {},
   "outputs": [],
   "source": [
    "squirtle.evolve()"
   ]
  },
  {
   "cell_type": "code",
   "execution_count": null,
   "metadata": {},
   "outputs": [
    {
     "name": "stdout",
     "output_type": "stream",
     "text": [
      "wartortle\n"
     ]
    }
   ],
   "source": [
    "print(squirtle.name)"
   ]
  },
  {
   "cell_type": "markdown",
   "metadata": {},
   "source": [
    "#  Final Exercise: <br> <br>Create a Move_Tutor Class that will allow the Pokemon Class to inherit a move list.\n",
    "<br>\n",
    "<p>for an added bonus you can make sure that if a pokemon has 4 moves the user can choose one of them to replace with a new move. </p>"
   ]
  },
  {
   "cell_type": "code",
   "execution_count": null,
   "metadata": {},
   "outputs": [],
   "source": [
    "class Move_Tutor:\n",
    "    def __init__(self):\n",
    "        self.move_list = []"
   ]
  },
  {
   "cell_type": "code",
   "execution_count": null,
   "metadata": {},
   "outputs": [],
   "source": []
  },
  {
   "cell_type": "code",
   "execution_count": null,
   "metadata": {},
   "outputs": [
    {
     "name": "stdout",
     "output_type": "stream",
     "text": [
      "What move would you like to teach pikachu? spark\n",
      "pikachu learned spark!\n"
     ]
    }
   ],
   "source": [
    "pikachu.teach_move()\n"
   ]
  },
  {
   "cell_type": "code",
   "execution_count": null,
   "metadata": {},
   "outputs": [
    {
     "name": "stdout",
     "output_type": "stream",
     "text": [
      "pikachu's moves'\n",
      "thunder\n",
      "surf\n",
      "earthquake\n"
     ]
    }
   ],
   "source": [
    "pikachu.show_moves()"
   ]
  }
 ],
 "metadata": {
  "kernelspec": {
   "display_name": "Python 3",
   "language": "python",
   "name": "python3"
  },
  "language_info": {
   "codemirror_mode": {
    "name": "ipython",
    "version": 3
   },
   "file_extension": ".py",
   "mimetype": "text/x-python",
   "name": "python",
   "nbconvert_exporter": "python",
   "pygments_lexer": "ipython3",
   "version": "3.10.9"
  },
  "vscode": {
   "interpreter": {
    "hash": "dc0463107e4a0e7d06093e381f4ae042447da784bfecfb379b86e0d7a491426e"
   }
  }
 },
 "nbformat": 4,
 "nbformat_minor": 4
}
